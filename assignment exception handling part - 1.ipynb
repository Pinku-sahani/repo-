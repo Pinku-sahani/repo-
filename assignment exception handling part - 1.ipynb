{
 "cells": [
  {
   "cell_type": "markdown",
   "id": "c2a9be48-c5df-4414-93ba-73b01b60d9df",
   "metadata": {},
   "source": [
    "Q1. What is an Exception in python? Write the difference between Exceptions and synatx errors"
   ]
  },
  {
   "cell_type": "code",
   "execution_count": 9,
   "id": "30744435-cb46-4d31-93f2-7984cef858f6",
   "metadata": {},
   "outputs": [],
   "source": [
    "# exception is the best block to built the code because my big code then in my code to diffrent diffrent type errors\n",
    "# then i am write except block then show the except block statement then my code error so not show error why? error control by except block"
   ]
  },
  {
   "cell_type": "code",
   "execution_count": 10,
   "id": "d6079768-28fe-4b15-ad79-429d5fdb5c56",
   "metadata": {},
   "outputs": [
    {
     "ename": "ZeroDivisionError",
     "evalue": "division by zero",
     "output_type": "error",
     "traceback": [
      "\u001b[0;31m---------------------------------------------------------------------------\u001b[0m",
      "\u001b[0;31mZeroDivisionError\u001b[0m                         Traceback (most recent call last)",
      "Cell \u001b[0;32mIn[10], line 2\u001b[0m\n\u001b[1;32m      1\u001b[0m \u001b[38;5;66;03m# Example \u001b[39;00m\n\u001b[0;32m----> 2\u001b[0m \u001b[38;5;241;43m2\u001b[39;49m\u001b[38;5;241;43m/\u001b[39;49m\u001b[38;5;241;43m0\u001b[39;49m\n",
      "\u001b[0;31mZeroDivisionError\u001b[0m: division by zero"
     ]
    }
   ],
   "source": [
    "# Example \n",
    "2/0"
   ]
  },
  {
   "cell_type": "code",
   "execution_count": null,
   "id": "cad984f8-d621-4569-a5c3-692f75ca3b10",
   "metadata": {},
   "outputs": [],
   "source": [
    "# solve the example using except block\n",
    "\n",
    "try:\n",
    "    \n",
    "    2/0\n",
    "except:\n",
    "    print(\"this value is not divisble by 0\")"
   ]
  },
  {
   "cell_type": "code",
   "execution_count": null,
   "id": "5b613e37-9aad-4deb-a057-7f4b8177ee16",
   "metadata": {},
   "outputs": [],
   "source": [
    "# diff b/w Exceptions and syntax errors"
   ]
  },
  {
   "cell_type": "code",
   "execution_count": 11,
   "id": "68f0ecd7-8440-42fa-b0fb-0df9ff4a0b99",
   "metadata": {},
   "outputs": [],
   "source": [
    "# Exception --  exception is the best block to built the code because my big code then in my code to diffrent diffrent type errors\n",
    "# then i am write except block then show the except block statement then my code error so not show error why? error control by except block"
   ]
  },
  {
   "cell_type": "code",
   "execution_count": 12,
   "id": "3028df96-c0ea-47eb-8bea-7a5903f64dd1",
   "metadata": {},
   "outputs": [],
   "source": [
    "# syntax errors -- syntax errors is a check my code then errors show syntax errors then i am correct that synatx and then exceute"
   ]
  },
  {
   "cell_type": "code",
   "execution_count": 13,
   "id": "d049916c-a2fc-4069-b4e9-b5dead0f5976",
   "metadata": {},
   "outputs": [
    {
     "ename": "SyntaxError",
     "evalue": "Missing parentheses in call to 'print'. Did you mean print(...)? (431728235.py, line 4)",
     "output_type": "error",
     "traceback": [
      "\u001b[0;36m  Cell \u001b[0;32mIn[13], line 4\u001b[0;36m\u001b[0m\n\u001b[0;31m    print\"Welcome!\"\u001b[0m\n\u001b[0m    ^\u001b[0m\n\u001b[0;31mSyntaxError\u001b[0m\u001b[0;31m:\u001b[0m Missing parentheses in call to 'print'. Did you mean print(...)?\n"
     ]
    }
   ],
   "source": [
    "# example -\n",
    "# I didn't put () carefully, so it gave () error.\n",
    "# this is call to syntax error\n",
    "print\"Welcome!\""
   ]
  },
  {
   "cell_type": "markdown",
   "id": "3476c653-f420-4861-8be3-f73febeab8ce",
   "metadata": {},
   "source": [
    "Q2. What happens when an  exception is not handled? Explain with an example."
   ]
  },
  {
   "cell_type": "code",
   "execution_count": 14,
   "id": "069e097f-2dcb-4dd0-9189-db170e7db99a",
   "metadata": {},
   "outputs": [],
   "source": [
    "# exception is not handled to output in show error why?\n",
    "# because my code is give we can speak which is impossible"
   ]
  },
  {
   "cell_type": "code",
   "execution_count": 15,
   "id": "0bc8b54d-08ee-4a9e-a583-273e06e60ff6",
   "metadata": {},
   "outputs": [
    {
     "ename": "SyntaxError",
     "evalue": "invalid syntax (2307769398.py, line 1)",
     "output_type": "error",
     "traceback": [
      "\u001b[0;36m  Cell \u001b[0;32mIn[15], line 1\u001b[0;36m\u001b[0m\n\u001b[0;31m    Example --\u001b[0m\n\u001b[0m               ^\u001b[0m\n\u001b[0;31mSyntaxError\u001b[0m\u001b[0;31m:\u001b[0m invalid syntax\n"
     ]
    }
   ],
   "source": [
    "Example -- \n",
    "# i haven't made this file test.xlsx so perform the output\n",
    " p = open(\"test.xlsx\",\"r\")\n",
    "    "
   ]
  },
  {
   "cell_type": "markdown",
   "id": "5893f3e7-bdf2-455a-aa7d-8e72626793a1",
   "metadata": {},
   "source": [
    "Q3. Which Python statements are used to catch and handle exceptions? Explain with an example?"
   ]
  },
  {
   "cell_type": "code",
   "execution_count": 16,
   "id": "f42cca98-fa0c-4325-9616-dcd6856a7449",
   "metadata": {},
   "outputs": [
    {
     "ename": "ZeroDivisionError",
     "evalue": "division by zero",
     "output_type": "error",
     "traceback": [
      "\u001b[0;31m---------------------------------------------------------------------------\u001b[0m",
      "\u001b[0;31mZeroDivisionError\u001b[0m                         Traceback (most recent call last)",
      "Cell \u001b[0;32mIn[16], line 5\u001b[0m\n\u001b[1;32m      3\u001b[0m a \u001b[38;5;241m=\u001b[39m \u001b[38;5;241m4\u001b[39m\n\u001b[1;32m      4\u001b[0m b \u001b[38;5;241m=\u001b[39m \u001b[38;5;241m0\u001b[39m\n\u001b[0;32m----> 5\u001b[0m \u001b[43ma\u001b[49m\u001b[38;5;241;43m/\u001b[39;49m\u001b[43mb\u001b[49m\n",
      "\u001b[0;31mZeroDivisionError\u001b[0m: division by zero"
     ]
    }
   ],
   "source": [
    "# try and exception block to use and then handle my exceptios.\n",
    "# exapmle - \n",
    "a = 4\n",
    "b = 0\n",
    "a/b"
   ]
  },
  {
   "cell_type": "code",
   "execution_count": 17,
   "id": "7a0b8aa9-d2f0-4192-9388-c433bb501575",
   "metadata": {},
   "outputs": [
    {
     "name": "stdout",
     "output_type": "stream",
     "text": [
      "Your error is handle in except block\n"
     ]
    }
   ],
   "source": [
    "# handle my exceptions\n",
    "try:\n",
    "    a = 4\n",
    "    b = 0\n",
    "    a/b\n",
    "except:\n",
    "    print(\"Your error is handle in except block\")"
   ]
  },
  {
   "cell_type": "markdown",
   "id": "c31a5e98-5c13-440c-8ade-a22b3cb2375b",
   "metadata": {},
   "source": [
    "Q4. Explain with an example:  \n",
    "a.   try and else\n",
    "b.   finally\n",
    "c.   raise"
   ]
  },
  {
   "cell_type": "code",
   "execution_count": 23,
   "id": "4359eda1-1fff-43f2-ad91-8e2783449c65",
   "metadata": {},
   "outputs": [
    {
     "name": "stdout",
     "output_type": "stream",
     "text": [
      "else execute\n"
     ]
    }
   ],
   "source": [
    "# try and else example\n",
    "try:\n",
    "    10/8\n",
    "except:\n",
    "    print(\"except execute\")\n",
    "else:\n",
    "    print(\"else execute\")"
   ]
  },
  {
   "cell_type": "code",
   "execution_count": 29,
   "id": "4fa9ea8f-d8bf-43fa-abe3-e688af1f16ed",
   "metadata": {},
   "outputs": [
    {
     "name": "stdout",
     "output_type": "stream",
     "text": [
      "finally will execute itself in any situation \n"
     ]
    },
    {
     "ename": "ZeroDivisionError",
     "evalue": "division by zero",
     "output_type": "error",
     "traceback": [
      "\u001b[0;31m---------------------------------------------------------------------------\u001b[0m",
      "\u001b[0;31mZeroDivisionError\u001b[0m                         Traceback (most recent call last)",
      "Cell \u001b[0;32mIn[29], line 4\u001b[0m\n\u001b[1;32m      1\u001b[0m \u001b[38;5;66;03m# finally \u001b[39;00m\n\u001b[1;32m      2\u001b[0m \u001b[38;5;66;03m# example -1 \u001b[39;00m\n\u001b[1;32m      3\u001b[0m \u001b[38;5;28;01mtry\u001b[39;00m:\n\u001b[0;32m----> 4\u001b[0m     \u001b[38;5;241;43m1\u001b[39;49m\u001b[38;5;241;43m/\u001b[39;49m\u001b[38;5;241;43m0\u001b[39;49m\n\u001b[1;32m      5\u001b[0m \u001b[38;5;28;01mfinally\u001b[39;00m:\n\u001b[1;32m      6\u001b[0m     \u001b[38;5;28mprint\u001b[39m(\u001b[38;5;124m\"\u001b[39m\u001b[38;5;124mfinally will execute itself in any situation \u001b[39m\u001b[38;5;124m\"\u001b[39m)\n",
      "\u001b[0;31mZeroDivisionError\u001b[0m: division by zero"
     ]
    }
   ],
   "source": [
    "# finally \n",
    "# example -1 \n",
    "try:\n",
    "    1/0\n",
    "finally:\n",
    "    print(\"finally will execute itself in any situation \")"
   ]
  },
  {
   "cell_type": "code",
   "execution_count": 30,
   "id": "bce23916-dc6d-4806-8399-da862e6ca04c",
   "metadata": {},
   "outputs": [
    {
     "name": "stdout",
     "output_type": "stream",
     "text": [
      "finally will execute itself in any situation \n"
     ]
    }
   ],
   "source": [
    "# finally\n",
    "# exapmle - 2\n",
    "try:\n",
    "    10/100\n",
    "finally:\n",
    "    print(\"finally will execute itself in any situation \")"
   ]
  },
  {
   "cell_type": "code",
   "execution_count": 35,
   "id": "90d64621-1e93-4ab9-beeb-2b7ed8917f2e",
   "metadata": {},
   "outputs": [
    {
     "name": "stdin",
     "output_type": "stream",
     "text": [
      "enter your age -34\n"
     ]
    },
    {
     "name": "stdout",
     "output_type": "stream",
     "text": [
      "enter valid age\n"
     ]
    }
   ],
   "source": [
    "# raise example\n",
    "try:\n",
    "    age=int(input(\"enter your age\"))\n",
    "    if age < 0:\n",
    "          raise ValueError\n",
    "    print(\"your age is \",age)\n",
    "except ValueError:\n",
    "    print(\"enter valid age\")\n",
    "    \n",
    "\n"
   ]
  },
  {
   "cell_type": "markdown",
   "id": "86613227-31d8-4dba-ae65-5d48770496bc",
   "metadata": {},
   "source": [
    "Q5. What are Custom Exceptions in python? Why do we need Custom Exceptions? Explain with an exmaple?\n"
   ]
  },
  {
   "cell_type": "code",
   "execution_count": 38,
   "id": "83c1c68a-97f4-4bec-943d-93a279ce57af",
   "metadata": {},
   "outputs": [
    {
     "name": "stdin",
     "output_type": "stream",
     "text": [
      "enter your age 56\n"
     ]
    },
    {
     "name": "stdout",
     "output_type": "stream",
     "text": [
      "your age is  56\n",
      "your is valid\n"
     ]
    }
   ],
   "source": [
    "# custom exception is the your code to provide to custom exceptions in python.\n",
    "# we are need to cutom exception is the error is not show code will be executed in this formuala.\n",
    "\n",
    "# example.\n",
    "try:\n",
    "    age=int(input(\"enter your age\"))\n",
    "    if age < 0:\n",
    "          raise ValueError\n",
    "    print(\"your age is \",age)\n",
    "except ValueError:\n",
    "    print(\"enter valid age\")\n",
    "else:\n",
    "    print(\"your is valid\")"
   ]
  },
  {
   "cell_type": "markdown",
   "id": "1b7ddde8-ece9-4615-bb08-08358233215d",
   "metadata": {},
   "source": [
    "Q6. Create a custom exception class. Use this class to handle an exception."
   ]
  },
  {
   "cell_type": "code",
   "execution_count": 45,
   "id": "35c14603-c68b-47e8-94b8-5b8389db9daf",
   "metadata": {},
   "outputs": [
    {
     "name": "stdin",
     "output_type": "stream",
     "text": [
      "enter your age -3\n"
     ]
    },
    {
     "name": "stdout",
     "output_type": "stream",
     "text": [
      "enterd age is negative\n"
     ]
    }
   ],
   "source": [
    "class validateage(Exception):\n",
    "    def __init__(self,msg):\n",
    "        self.msg = msg\n",
    "        \n",
    "def validaetage (age):\n",
    "    if age < 0 :\n",
    "        raise validateage(\"enterd age is negative\" )\n",
    "    elif age > 200:\n",
    "        raise validateage(\"entered age is very very high\")\n",
    "    else:\n",
    "        print(\"age is valid\")\n",
    "        \n",
    "try: \n",
    "    age = int(input(\"enter your age\"))\n",
    "    validaetage(age)\n",
    "    \n",
    "except validateage as e:\n",
    "    print(e)"
   ]
  },
  {
   "cell_type": "code",
   "execution_count": null,
   "id": "7665125c-f3a3-47cf-9738-4541abf74edb",
   "metadata": {},
   "outputs": [],
   "source": []
  }
 ],
 "metadata": {
  "kernelspec": {
   "display_name": "Python 3 (ipykernel)",
   "language": "python",
   "name": "python3"
  },
  "language_info": {
   "codemirror_mode": {
    "name": "ipython",
    "version": 3
   },
   "file_extension": ".py",
   "mimetype": "text/x-python",
   "name": "python",
   "nbconvert_exporter": "python",
   "pygments_lexer": "ipython3",
   "version": "3.10.8"
  }
 },
 "nbformat": 4,
 "nbformat_minor": 5
}
